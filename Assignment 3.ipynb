{
  "nbformat": 4,
  "nbformat_minor": 0,
  "metadata": {
    "colab": {
      "provenance": []
    },
    "kernelspec": {
      "name": "python3",
      "display_name": "Python 3"
    },
    "language_info": {
      "name": "python"
    }
  },
  "cells": [
    {
      "cell_type": "markdown",
      "source": [
        "#Grover's Algorithm"
      ],
      "metadata": {
        "id": "mvP_h-lK42m2"
      }
    },
    {
      "cell_type": "code",
      "source": [
        "!pip install qiskit\n",
        "!pip install qiskit[visualization]\n",
        "!pip install qiskit_aer\n",
        "!pip install qiskit_ibm_runtime"
      ],
      "metadata": {
        "colab": {
          "base_uri": "https://localhost:8080/"
        },
        "collapsed": true,
        "id": "Mk1imqvA1T_x",
        "outputId": "912672b0-55b4-4589-b271-abb233c5920d"
      },
      "execution_count": null,
      "outputs": [
        {
          "output_type": "stream",
          "name": "stdout",
          "text": [
            "Requirement already satisfied: qiskit in /usr/local/lib/python3.11/dist-packages (2.1.0)\n",
            "Requirement already satisfied: rustworkx>=0.15.0 in /usr/local/lib/python3.11/dist-packages (from qiskit) (0.16.0)\n",
            "Requirement already satisfied: numpy<3,>=1.17 in /usr/local/lib/python3.11/dist-packages (from qiskit) (2.0.2)\n",
            "Requirement already satisfied: scipy>=1.5 in /usr/local/lib/python3.11/dist-packages (from qiskit) (1.15.3)\n",
            "Requirement already satisfied: dill>=0.3 in /usr/local/lib/python3.11/dist-packages (from qiskit) (0.3.7)\n",
            "Requirement already satisfied: stevedore>=3.0.0 in /usr/local/lib/python3.11/dist-packages (from qiskit) (5.4.1)\n",
            "Requirement already satisfied: typing-extensions in /usr/local/lib/python3.11/dist-packages (from qiskit) (4.14.0)\n",
            "Requirement already satisfied: pbr>=2.0.0 in /usr/local/lib/python3.11/dist-packages (from stevedore>=3.0.0->qiskit) (6.1.1)\n",
            "Requirement already satisfied: setuptools in /usr/local/lib/python3.11/dist-packages (from pbr>=2.0.0->stevedore>=3.0.0->qiskit) (75.2.0)\n",
            "Requirement already satisfied: qiskit[visualization] in /usr/local/lib/python3.11/dist-packages (2.1.0)\n",
            "Requirement already satisfied: rustworkx>=0.15.0 in /usr/local/lib/python3.11/dist-packages (from qiskit[visualization]) (0.16.0)\n",
            "Requirement already satisfied: numpy<3,>=1.17 in /usr/local/lib/python3.11/dist-packages (from qiskit[visualization]) (2.0.2)\n",
            "Requirement already satisfied: scipy>=1.5 in /usr/local/lib/python3.11/dist-packages (from qiskit[visualization]) (1.15.3)\n",
            "Requirement already satisfied: dill>=0.3 in /usr/local/lib/python3.11/dist-packages (from qiskit[visualization]) (0.3.7)\n",
            "Requirement already satisfied: stevedore>=3.0.0 in /usr/local/lib/python3.11/dist-packages (from qiskit[visualization]) (5.4.1)\n",
            "Requirement already satisfied: typing-extensions in /usr/local/lib/python3.11/dist-packages (from qiskit[visualization]) (4.14.0)\n",
            "Requirement already satisfied: matplotlib>=3.3 in /usr/local/lib/python3.11/dist-packages (from qiskit[visualization]) (3.10.0)\n",
            "Requirement already satisfied: pydot in /usr/local/lib/python3.11/dist-packages (from qiskit[visualization]) (3.0.4)\n",
            "Requirement already satisfied: Pillow>=4.2.1 in /usr/local/lib/python3.11/dist-packages (from qiskit[visualization]) (11.2.1)\n",
            "Requirement already satisfied: pylatexenc>=1.4 in /usr/local/lib/python3.11/dist-packages (from qiskit[visualization]) (2.10)\n",
            "Requirement already satisfied: seaborn>=0.9.0 in /usr/local/lib/python3.11/dist-packages (from qiskit[visualization]) (0.13.2)\n",
            "Requirement already satisfied: sympy>=1.3 in /usr/local/lib/python3.11/dist-packages (from qiskit[visualization]) (1.13.1)\n",
            "Requirement already satisfied: contourpy>=1.0.1 in /usr/local/lib/python3.11/dist-packages (from matplotlib>=3.3->qiskit[visualization]) (1.3.2)\n",
            "Requirement already satisfied: cycler>=0.10 in /usr/local/lib/python3.11/dist-packages (from matplotlib>=3.3->qiskit[visualization]) (0.12.1)\n",
            "Requirement already satisfied: fonttools>=4.22.0 in /usr/local/lib/python3.11/dist-packages (from matplotlib>=3.3->qiskit[visualization]) (4.58.4)\n",
            "Requirement already satisfied: kiwisolver>=1.3.1 in /usr/local/lib/python3.11/dist-packages (from matplotlib>=3.3->qiskit[visualization]) (1.4.8)\n",
            "Requirement already satisfied: packaging>=20.0 in /usr/local/lib/python3.11/dist-packages (from matplotlib>=3.3->qiskit[visualization]) (24.2)\n",
            "Requirement already satisfied: pyparsing>=2.3.1 in /usr/local/lib/python3.11/dist-packages (from matplotlib>=3.3->qiskit[visualization]) (3.2.3)\n",
            "Requirement already satisfied: python-dateutil>=2.7 in /usr/local/lib/python3.11/dist-packages (from matplotlib>=3.3->qiskit[visualization]) (2.9.0.post0)\n",
            "Requirement already satisfied: pandas>=1.2 in /usr/local/lib/python3.11/dist-packages (from seaborn>=0.9.0->qiskit[visualization]) (2.2.2)\n",
            "Requirement already satisfied: pbr>=2.0.0 in /usr/local/lib/python3.11/dist-packages (from stevedore>=3.0.0->qiskit[visualization]) (6.1.1)\n",
            "Requirement already satisfied: mpmath<1.4,>=1.1.0 in /usr/local/lib/python3.11/dist-packages (from sympy>=1.3->qiskit[visualization]) (1.3.0)\n",
            "Requirement already satisfied: pytz>=2020.1 in /usr/local/lib/python3.11/dist-packages (from pandas>=1.2->seaborn>=0.9.0->qiskit[visualization]) (2025.2)\n",
            "Requirement already satisfied: tzdata>=2022.7 in /usr/local/lib/python3.11/dist-packages (from pandas>=1.2->seaborn>=0.9.0->qiskit[visualization]) (2025.2)\n",
            "Requirement already satisfied: setuptools in /usr/local/lib/python3.11/dist-packages (from pbr>=2.0.0->stevedore>=3.0.0->qiskit[visualization]) (75.2.0)\n",
            "Requirement already satisfied: six>=1.5 in /usr/local/lib/python3.11/dist-packages (from python-dateutil>=2.7->matplotlib>=3.3->qiskit[visualization]) (1.17.0)\n",
            "Requirement already satisfied: qiskit_aer in /usr/local/lib/python3.11/dist-packages (0.17.1)\n",
            "Requirement already satisfied: qiskit>=1.1.0 in /usr/local/lib/python3.11/dist-packages (from qiskit_aer) (2.1.0)\n",
            "Requirement already satisfied: numpy>=1.16.3 in /usr/local/lib/python3.11/dist-packages (from qiskit_aer) (2.0.2)\n",
            "Requirement already satisfied: scipy>=1.0 in /usr/local/lib/python3.11/dist-packages (from qiskit_aer) (1.15.3)\n",
            "Requirement already satisfied: psutil>=5 in /usr/local/lib/python3.11/dist-packages (from qiskit_aer) (5.9.5)\n",
            "Requirement already satisfied: python-dateutil>=2.8.0 in /usr/local/lib/python3.11/dist-packages (from qiskit_aer) (2.9.0.post0)\n",
            "Requirement already satisfied: six>=1.5 in /usr/local/lib/python3.11/dist-packages (from python-dateutil>=2.8.0->qiskit_aer) (1.17.0)\n",
            "Requirement already satisfied: rustworkx>=0.15.0 in /usr/local/lib/python3.11/dist-packages (from qiskit>=1.1.0->qiskit_aer) (0.16.0)\n",
            "Requirement already satisfied: dill>=0.3 in /usr/local/lib/python3.11/dist-packages (from qiskit>=1.1.0->qiskit_aer) (0.3.7)\n",
            "Requirement already satisfied: stevedore>=3.0.0 in /usr/local/lib/python3.11/dist-packages (from qiskit>=1.1.0->qiskit_aer) (5.4.1)\n",
            "Requirement already satisfied: typing-extensions in /usr/local/lib/python3.11/dist-packages (from qiskit>=1.1.0->qiskit_aer) (4.14.0)\n",
            "Requirement already satisfied: pbr>=2.0.0 in /usr/local/lib/python3.11/dist-packages (from stevedore>=3.0.0->qiskit>=1.1.0->qiskit_aer) (6.1.1)\n",
            "Requirement already satisfied: setuptools in /usr/local/lib/python3.11/dist-packages (from pbr>=2.0.0->stevedore>=3.0.0->qiskit>=1.1.0->qiskit_aer) (75.2.0)\n",
            "Requirement already satisfied: qiskit_ibm_runtime in /usr/local/lib/python3.11/dist-packages (0.40.1)\n",
            "Requirement already satisfied: requests>=2.19 in /usr/local/lib/python3.11/dist-packages (from qiskit_ibm_runtime) (2.32.4)\n",
            "Requirement already satisfied: requests-ntlm>=1.1.0 in /usr/local/lib/python3.11/dist-packages (from qiskit_ibm_runtime) (1.3.0)\n",
            "Requirement already satisfied: numpy>=1.13 in /usr/local/lib/python3.11/dist-packages (from qiskit_ibm_runtime) (2.0.2)\n",
            "Requirement already satisfied: urllib3>=1.21.1 in /usr/local/lib/python3.11/dist-packages (from qiskit_ibm_runtime) (2.4.0)\n",
            "Requirement already satisfied: python-dateutil>=2.8.0 in /usr/local/lib/python3.11/dist-packages (from qiskit_ibm_runtime) (2.9.0.post0)\n",
            "Requirement already satisfied: ibm-platform-services>=0.22.6 in /usr/local/lib/python3.11/dist-packages (from qiskit_ibm_runtime) (0.66.2)\n",
            "Requirement already satisfied: pydantic>=2.5.0 in /usr/local/lib/python3.11/dist-packages (from qiskit_ibm_runtime) (2.11.7)\n",
            "Requirement already satisfied: qiskit>=1.4.1 in /usr/local/lib/python3.11/dist-packages (from qiskit_ibm_runtime) (2.1.0)\n",
            "Requirement already satisfied: packaging in /usr/local/lib/python3.11/dist-packages (from qiskit_ibm_runtime) (24.2)\n",
            "Requirement already satisfied: ibm_cloud_sdk_core<4.0.0,>=3.24.2 in /usr/local/lib/python3.11/dist-packages (from ibm-platform-services>=0.22.6->qiskit_ibm_runtime) (3.24.2)\n",
            "Requirement already satisfied: annotated-types>=0.6.0 in /usr/local/lib/python3.11/dist-packages (from pydantic>=2.5.0->qiskit_ibm_runtime) (0.7.0)\n",
            "Requirement already satisfied: pydantic-core==2.33.2 in /usr/local/lib/python3.11/dist-packages (from pydantic>=2.5.0->qiskit_ibm_runtime) (2.33.2)\n",
            "Requirement already satisfied: typing-extensions>=4.12.2 in /usr/local/lib/python3.11/dist-packages (from pydantic>=2.5.0->qiskit_ibm_runtime) (4.14.0)\n",
            "Requirement already satisfied: typing-inspection>=0.4.0 in /usr/local/lib/python3.11/dist-packages (from pydantic>=2.5.0->qiskit_ibm_runtime) (0.4.1)\n",
            "Requirement already satisfied: six>=1.5 in /usr/local/lib/python3.11/dist-packages (from python-dateutil>=2.8.0->qiskit_ibm_runtime) (1.17.0)\n",
            "Requirement already satisfied: rustworkx>=0.15.0 in /usr/local/lib/python3.11/dist-packages (from qiskit>=1.4.1->qiskit_ibm_runtime) (0.16.0)\n",
            "Requirement already satisfied: scipy>=1.5 in /usr/local/lib/python3.11/dist-packages (from qiskit>=1.4.1->qiskit_ibm_runtime) (1.15.3)\n",
            "Requirement already satisfied: dill>=0.3 in /usr/local/lib/python3.11/dist-packages (from qiskit>=1.4.1->qiskit_ibm_runtime) (0.3.7)\n",
            "Requirement already satisfied: stevedore>=3.0.0 in /usr/local/lib/python3.11/dist-packages (from qiskit>=1.4.1->qiskit_ibm_runtime) (5.4.1)\n",
            "Requirement already satisfied: charset_normalizer<4,>=2 in /usr/local/lib/python3.11/dist-packages (from requests>=2.19->qiskit_ibm_runtime) (3.4.2)\n",
            "Requirement already satisfied: idna<4,>=2.5 in /usr/local/lib/python3.11/dist-packages (from requests>=2.19->qiskit_ibm_runtime) (3.10)\n",
            "Requirement already satisfied: certifi>=2017.4.17 in /usr/local/lib/python3.11/dist-packages (from requests>=2.19->qiskit_ibm_runtime) (2025.6.15)\n",
            "Requirement already satisfied: cryptography>=1.3 in /usr/local/lib/python3.11/dist-packages (from requests-ntlm>=1.1.0->qiskit_ibm_runtime) (43.0.3)\n",
            "Requirement already satisfied: pyspnego>=0.4.0 in /usr/local/lib/python3.11/dist-packages (from requests-ntlm>=1.1.0->qiskit_ibm_runtime) (0.11.2)\n",
            "Requirement already satisfied: cffi>=1.12 in /usr/local/lib/python3.11/dist-packages (from cryptography>=1.3->requests-ntlm>=1.1.0->qiskit_ibm_runtime) (1.17.1)\n",
            "Requirement already satisfied: PyJWT<3.0.0,>=2.10.1 in /usr/local/lib/python3.11/dist-packages (from ibm_cloud_sdk_core<4.0.0,>=3.24.2->ibm-platform-services>=0.22.6->qiskit_ibm_runtime) (2.10.1)\n",
            "Requirement already satisfied: pbr>=2.0.0 in /usr/local/lib/python3.11/dist-packages (from stevedore>=3.0.0->qiskit>=1.4.1->qiskit_ibm_runtime) (6.1.1)\n",
            "Requirement already satisfied: pycparser in /usr/local/lib/python3.11/dist-packages (from cffi>=1.12->cryptography>=1.3->requests-ntlm>=1.1.0->qiskit_ibm_runtime) (2.22)\n",
            "Requirement already satisfied: setuptools in /usr/local/lib/python3.11/dist-packages (from pbr>=2.0.0->stevedore>=3.0.0->qiskit>=1.4.1->qiskit_ibm_runtime) (75.2.0)\n"
          ]
        }
      ]
    },
    {
      "cell_type": "code",
      "execution_count": null,
      "metadata": {
        "id": "fsgbtN9u0Zgw"
      },
      "outputs": [],
      "source": [
        "import numpy as np\n",
        "from qiskit import QuantumCircuit\n",
        "from qiskit_aer import AerSimulator\n",
        "from qiskit.visualization import plot_histogram\n",
        "import matplotlib.pyplot as plt"
      ]
    },
    {
      "cell_type": "markdown",
      "source": [
        "Grover’s algorithm is basically a quantum search through an unsorted database.  \n",
        "Here, we're working with **3 qubits**, which gives us `2^3 = 8` possible states.  \n",
        "\n",
        "We’re hiding a “needle” in this haystack — the solution is `'111'`. Let’s find it!"
      ],
      "metadata": {
        "id": "2eyqc1C_ve6a"
      }
    },
    {
      "cell_type": "code",
      "source": [
        "n = 3  # Number of qubits\n",
        "N = 2 ** n\n",
        "solution = '111'  # Marked element (the \"needle\")\n"
      ],
      "metadata": {
        "id": "q6P_sr9x24Xy"
      },
      "execution_count": null,
      "outputs": []
    },
    {
      "cell_type": "markdown",
      "source": [
        "## The Oracle\n",
        "\n",
        "This is the \"all-knowing function\" that marks our secret state.  \n",
        "If the state matches the target (in our case `'111'`), it flips the sign — like a quantum post-it saying “Yo! This is the one.”\n",
        "\n",
        "The oracle is built using quantum gates that check for our secret bit pattern."
      ],
      "metadata": {
        "id": "i0vYtY0ivyGU"
      }
    },
    {
      "cell_type": "code",
      "source": [
        "def grover_oracle(n, solution):\n",
        "    qc = QuantumCircuit(n)\n",
        "    for qubit, bit in enumerate(reversed(solution)):\n",
        "        if bit == '0':\n",
        "            qc.x(qubit)\n",
        "    qc.h(n - 1)\n",
        "    qc.mcx(list(range(n - 1)), n - 1)  # Multi-controlled X (Toffoli)\n",
        "    qc.h(n - 1)\n",
        "    for qubit, bit in enumerate(reversed(solution)):\n",
        "        if bit == '0':\n",
        "            qc.x(qubit)\n",
        "    oracle_gate = qc.to_gate()\n",
        "    oracle_gate.name = \"Oracle\"\n",
        "    return oracle_gate"
      ],
      "metadata": {
        "id": "x2_YZ6dp3Etn"
      },
      "execution_count": null,
      "outputs": []
    },
    {
      "cell_type": "markdown",
      "source": [
        "## The Diffuser\n",
        "\n",
        "After the oracle highlights the solution, the diffuser says:  \n",
        "\"Okay, now amplify that solution's amplitude so it's more likely to be measured.\"\n",
        "\n",
        "Mathematically, this step is basically reflecting all the state amplitudes about the average.  "
      ],
      "metadata": {
        "id": "P1uYtRB5wAZd"
      }
    },
    {
      "cell_type": "code",
      "source": [
        "def grover_diffuser(n):\n",
        "    qc = QuantumCircuit(n)\n",
        "    qc.h(range(n))\n",
        "    qc.x(range(n))\n",
        "    qc.h(n - 1)\n",
        "    qc.mcx(list(range(n - 1)), n - 1) # Multi-controlled X (Toffoli)\n",
        "    qc.h(n - 1)\n",
        "    qc.x(range(n))\n",
        "    qc.h(range(n))\n",
        "    diffuser_gate = qc.to_gate()\n",
        "    diffuser_gate.name = \"Diffuser\"\n",
        "    return diffuser_gate"
      ],
      "metadata": {
        "id": "AT9Uk8ZZ3QOf"
      },
      "execution_count": null,
      "outputs": []
    },
    {
      "cell_type": "markdown",
      "source": [
        "## How Many Iterations Do We Need?\n",
        "\n",
        "Turns out you don’t need to loop forever. For `N = 8` states, Grover's algorithm only needs:\n",
        "  \n",
        " $$ \\left\\lfloor \\frac{\\pi}{4} \\sqrt{N} \\right\\rfloor = 2 \\text{ iterations}$$\n",
        "\n",
        "  That’s the quadratic speedup we are looking for."
      ],
      "metadata": {
        "id": "rATWIsvNw0Wm"
      }
    },
    {
      "cell_type": "code",
      "source": [
        "iterations = int(np.floor((np.pi*1.0) / 4 * np.sqrt(N)))\n",
        "print(f'Number of Grover iterations: {iterations}')\n"
      ],
      "metadata": {
        "colab": {
          "base_uri": "https://localhost:8080/"
        },
        "id": "8R-lkQAP3Z6b",
        "outputId": "15d9efae-b244-498a-c555-3248a3842b28"
      },
      "execution_count": null,
      "outputs": [
        {
          "output_type": "stream",
          "name": "stdout",
          "text": [
            "Number of Grover iterations: 2\n"
          ]
        }
      ]
    },
    {
      "cell_type": "markdown",
      "source": [
        "## Assemble the Full Circuit\n",
        "\n",
        "Now we put it all together:\n",
        "- Initialize the qubits in superposition with Hadamards\n",
        "- Apply Grover iterations (Oracle + Diffuser)\n",
        "- Measure to collapse the state and find our “needle”"
      ],
      "metadata": {
        "id": "TzF6uBlixWjn"
      }
    },
    {
      "cell_type": "code",
      "source": [
        "qc = QuantumCircuit(n, n)\n",
        "\n",
        "# Step 1: Apply Hadamard to all qubits to create superposition\n",
        "qc.h(range(n))\n",
        "\n",
        "# Step 2: Apply Grover iterations\n",
        "oracle = grover_oracle(n, solution)\n",
        "diffuser = grover_diffuser(n)\n",
        "\n",
        "for _ in range(iterations):\n",
        "    qc.append(oracle, range(n))\n",
        "    qc.append(diffuser, range(n))\n",
        "\n",
        "# Step 3: Measurement\n",
        "qc.measure(range(n), range(n))\n",
        "\n",
        "qc.draw('mpl')"
      ],
      "metadata": {
        "colab": {
          "base_uri": "https://localhost:8080/",
          "height": 320
        },
        "id": "8kyWJmzP3tmV",
        "outputId": "8d89c737-c929-4d1b-984b-7411e68d6138"
      },
      "execution_count": null,
      "outputs": [
        {
          "output_type": "execute_result",
          "data": {
            "text/plain": [
              "<Figure size 1123.61x367.889 with 1 Axes>"
            ],
            "image/png": "[encoded data removed]"
          },
          "metadata": {},
          "execution_count": 25
        }
      ]
    },
    {
      "cell_type": "code",
      "source": [
        "from qiskit import transpile\n",
        "\n",
        "backend = AerSimulator()\n",
        "shots = 2048\n",
        "\n",
        "# Transpile the circuit to the backend's basis gates\n",
        "transpiled_qc = transpile(qc, backend)\n",
        "\n",
        "result = backend.run(transpiled_qc, shots=shots).result()\n",
        "counts = result.get_counts(transpiled_qc)\n",
        "print(counts)\n",
        "plot_histogram(counts)"
      ],
      "metadata": {
        "colab": {
          "base_uri": "https://localhost:8080/",
          "height": 504
        },
        "id": "EFqUgTb836tz",
        "outputId": "2d158f2f-ed72-47d7-f06f-e273171acc3d"
      },
      "execution_count": null,
      "outputs": [
        {
          "output_type": "stream",
          "name": "stdout",
          "text": [
            "{'001': 13, '000': 14, '010': 18, '110': 13, '100': 19, '101': 18, '011': 27, '111': 1926}\n"
          ]
        },
        {
          "output_type": "execute_result",
          "data": {
            "text/plain": [
              "<Figure size 640x480 with 1 Axes>"
            ],
            "image/png": "[encoded data removed]"
          },
          "metadata": {},
          "execution_count": 26
        }
      ]
    },
    {
      "cell_type": "markdown",
      "source": [
        "I hope you understand what this algorithm tries to convey. Make sure you understand these thoroughly before attempting the assignment."
      ],
      "metadata": {
        "id": "OvcPX7t1xkuJ"
      }
    },
    {
      "cell_type": "markdown",
      "source": [
        "# Q1: Collision Detection Using Grovers Algorithm\n",
        "\n",
        "## Problem Setup\n",
        "\n",
        "You are provided with a system of **3 qubits**, giving you an unstructured quantum search space of:\n",
        "\n",
        "$$\n",
        "N = 2^3 = 8 \\text{ possible states} \\quad (|000⟩, |001⟩, ..., |111⟩)\n",
        "$$\n",
        "\n",
        "One of these states — in this case, the state `|101⟩` — represents a **\"collision\"**, i.e., the correct answer or the marked solution. Your task is to use Grover's algorithm to **identify this collision state** efficiently.\n",
        "\n",
        "---\n",
        "\n",
        "## Tasks\n",
        "\n",
        "You are required to complete the following steps using Python and **Qiskit**:\n",
        "\n",
        "1. **Initialize the System:**\n",
        "   - Apply Hadamard gates to all qubits to prepare a uniform superposition over all 8 states.\n",
        "\n",
        "2. **Construct the Oracle:**\n",
        "   - Build a quantum oracle that recognizes the collision state `|101⟩` and flips its phase.\n",
        "\n",
        "3. **Design the Diffusion Operator (Amplitude Amplification):**\n",
        "    - Implement the diffusion step that inverts amplitudes about their average.\n",
        "\n",
        "4. **Perform Grover Iterations:**\n",
        "    - Apply the oracle and diffuser iteratively.\n",
        "    - Use the theoretical formula:\n",
        "      $$ r \\approx \\left\\lfloor \\frac{\\pi}{4} \\sqrt{N} \\right\\rfloor $$\n",
        "     to determine how many iterations you need.\n",
        "\n",
        "5. **Measurement and Result:**\n",
        "    - Measure the final state and confirm that the algorithm amplifies the probability of observing `|101⟩`.\n",
        "\n",
        "6. **Visualization and Analysis:**\n",
        "    - Plot the **amplitude evolution** of the target state across iterations.\n",
        "    - Draw the quantum circuit and final measurement histogram.\n",
        "\n",
        "## Deliverables\n",
        "  - Clear inline explanations or markdown cells summarizing.\n",
        "  - What each section of code is doing.\n",
        "  - The intuition behind the oracle and diffuser.\n",
        "  - Why Grover’s algorithm works better than classical search.\n",
        "  - At least one plot showing the growth of the target state's probability over multiple iterations.\n",
        "\n",
        "\n",
        "## Bonus Challenge:\n",
        "\n",
        "  Can you generalize your circuit to work for *any* 3-bit target state, not just `|101⟩`? Can you scale it to 4 qubits and still correctly identify a marked state?\n"
      ],
      "metadata": {
        "id": "20Nv1vZyx3X-"
      }
    },
    {
      "cell_type": "markdown",
      "source": [
        "# Q2: Solving a 3-SAT Problem Using Grover's Algorithm\n",
        "\n",
        "## Context\n",
        "\n",
        "The Boolean 3-SAT (3-Satisfiability) problem is a foundational example in computational complexity theory. It involves determining whether there exists an assignment of Boolean variables that satisfies a given Boolean formula in conjunctive normal form (CNF), where each clause contains exactly three literals.\n",
        "\n",
        "3-SAT is a classic NP-complete problem. Solving it efficiently for large instances remains intractable on classical computers. However, quantum computing offers a new approach to tackle such problems using Grover’s search algorithm, which provides a quadratic speedup over classical brute-force search.\n",
        "\n",
        "In this assignment, you will use Grover's algorithm to find a satisfying assignment for a 3-SAT problem by encoding the Boolean formula into a quantum oracle and searching for an input that satisfies it.\n",
        "\n",
        "---\n",
        "\n",
        "## Problem Setup\n",
        "\n",
        "You are given a Boolean formula of the following form:\n",
        "\n",
        "$$\n",
        "(x_1 \\lor \\lnot x_2 \\lor x_3) \\land (\\lnot x_1 \\lor x_2 \\lor x_3)$$\n",
        "\n",
        "This formula has 3 variables: $x_1, x_2, x_3$, leading to $2^3 = 8$ possible input combinations. Your objective is to identify which of these combinations (if any) satisfy the given formula using Grover’s algorithm.\n",
        "\n",
        "---\n",
        "\n",
        "## Tasks\n",
        "\n",
        "1. **Problem Encoding**\n",
        "- Convert the 3-SAT Boolean formula into a classical Boolean function that returns 1 for satisfying inputs and 0 otherwise.\n",
        "- Encode this Boolean function into a quantum oracle. You may use Qiskit's `PhaseOracle` or implement your own custom logic.\n",
        "\n",
        "2. **Circuit Preparation**\n",
        "- Initialize a uniform superposition over all $2^n$ basis states using Hadamard gates.\n",
        "- Construct the full Grover circuit, including the oracle and the diffusion operator.\n",
        "\n",
        "3. **Iteration Selection**\n",
        "- Determine the number of Grover iterations using the formula:\n",
        "     $$ r = \\left\\lfloor \\frac{\\pi}{4} \\sqrt{\\frac{2^n}{M}} \\right\\rfloor $$\n",
        "\n",
        "  where $M$ is the number of satisfying solutions. If unknown, use $M = 1$ as an approximation for small cases.\n",
        "\n",
        "4. **Measurement**\n",
        "- Add classical registers and measure the quantum state after completing the Grover iterations.\n",
        "- Simulate the circuit and identify the most probable outputs.\n",
        "\n",
        "5. **Result Validation**\n",
        "- Verify whether the measured bitstrings satisfy the original 3-SAT formula.\n",
        "\n",
        "6. **Visualization and Documentation**\n",
        "- Draw the quantum circuit using Qiskit's visualization tools.\n",
        "- Plot the histogram of measurement outcomes.\n",
        "- Clearly explain each section using markdown cells to document your logic, design choices, and conclusions.\n",
        "\n",
        "---\n",
        "## Bonus Challenge\n",
        "\n",
        "- Extend your implementation to support arbitrary 3-SAT formulas with 3 or more variables.\n",
        "- Analyze the impact of incorrect estimates of $M$ on the algorithm’s success rate.\n",
        "\n",
        "---\n",
        "\n",
        "  ## Important Notes\n",
        "\n",
        "  Grover’s algorithm does not solve the 3-SAT problem symbolically. Instead, it performs a search over the input space and amplifies the probability of observing a correct solution. The accuracy of your oracle and your iteration count will significantly impact your final results."
      ],
      "metadata": {
        "id": "jW7E5Pnz2f2D"
      }
    }
  ]
}